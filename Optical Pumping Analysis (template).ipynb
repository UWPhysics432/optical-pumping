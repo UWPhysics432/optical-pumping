{
 "cells": [
  {
   "cell_type": "markdown",
   "metadata": {},
   "source": [
    "# Individual Analysis for the Optical Pumping experiment\n",
    "\n",
    "Use this template to carry out the analysis tasks for the experiment.  For reference, here are links to recommended Python resources: the [Whirlwind Tour of Python](https://jakevdp.github.io/WhirlwindTourOfPython/) and the [Python Data Science Handbook](https://jakevdp.github.io/PythonDataScienceHandbook/) both by Jake VanderPlas.\n",
    "\n",
    "We will be making use of both the [Uncertainties](https://pythonhosted.org/uncertainties/) and [LMFit](https://lmfit.github.io/lmfit-py/) packages in this notebook."
   ]
  },
  {
   "cell_type": "code",
   "execution_count": null,
   "metadata": {},
   "outputs": [],
   "source": [
    "import numpy as np  # import the numpy library functions.\n",
    "import matplotlib.pyplot as plt # plotting functions\n",
    "import uncertainties as unc # Uncertainties package.  Good for simple error propagation\n",
    "from uncertainties import unumpy as unp # Collection of NumPy functions that work with incertainty arrays.\n",
    "import scipy.constants as const # Library of physical constants\n",
    "import pandas as pd\n",
    "%matplotlib inline"
   ]
  },
  {
   "cell_type": "markdown",
   "metadata": {},
   "source": [
    "## Tasks for this analysis\n",
    "\n",
    "### Preliminary exercises\n",
    "\n",
    "Use this notebook to calculate the answers to the first two exercises in the instructions: \n",
    "1. The expected fractional occupation of the lowest energy state of the rubidium atom in the Earth's magnetic field.\n",
    "\n",
    "2. The values of the g-factor $g_F$ for the hyperfine energy levels of the rubidium atom's lowest-energy states for both isotopes, Rb-85 and Rb-87.  You will compare these values to your results from the measurements.\n",
    "\n",
    "### Find the experimental values of *g<sub>F</sub>* with three different methods\n",
    "\n",
    "You will determine $g_F$ in the equation $\\Delta E = \\hbar\\omega_0 = g_F\\mu_BH_0$ (taking $\\Delta m_F =1$) using three methods.  \n",
    "\n",
    "<ol>\n",
    "<li>The first method is to plot the resonant frequency (where the dip begins) versus offset of the $H_0$ sweep voltage and then determining the zero crossing of the line with a fit.  This gives a better measurement of the resonance frequency $\\omega_0/2\\pi$ in the earth's field. NOTE: You will also use the zero-frequency intercept to estimate the offset that would cancel the earth's field. (This is <b>Exercise 3</b> in the instructions.)</li>\n",
    "\n",
    "<li>The second and third methods use the Rabi oscillations, which are done with no added $H_0$ field offset applied (so the only contribution comes from the earth field).  The second method uses the fact that the Rabi oscillation signal is strongest when the oscillator ($H_1$) frequency $\\nu$ is on-resonance: $\\nu\\approx\\omega_0/2\\pi$.  The response is very sensitive to the frequency, and you should be able to determine it to 4 significant figures by adjusting the function generator while observing the oscilloscope signal. (This is <b>Exercise 7</b> in the instructions.)</li>\n",
    "\n",
    "<li>The third method uses the Rabi theory to measure the Rabi oscillation frequency as a function of the $H_1$ amplitude. The amplitude of $H_1$ is directly proportional to the voltage $V_{pp}$ of the $H_1$-field osillator, and the Rabi angular frequency $\\Omega$ is predicted to follow this formula (Eq. 6 in the instructions):\n",
    "\n",
    "$$ \\Omega^2 = \\omega_1^2 + (\\omega - \\omega_0)^2\\,, $$\n",
    "\n",
    "where $\\hbar\\omega_1 = g\\mu_B H_1 = KV_{pp}$ with $K$ as some proportionality constant of appropriate units, and $2\\pi\\nu = \\omega$ the angular frequency of the $H_1$ oscillator.  By dividing out the $(2\\pi)^2$ in the above, you can see that a plot of Rabi frequency (in hertz) squared versus the oscillator peak-to-peak amplitude, squared, should give a straight line whose y-intercept should be the difference, squared, between the true resonant frequency $\\omega_0/2\\pi$ and the oscillator frequency $\\nu$.  The only ambiguity is whether the resonant frequency $\\nu_0$ is above or below $\\nu$.  So, if you first tune to find the frequency closest to resonance (method 2) and then detune the oscillator in a known direction (higher or lower than $\\omega_0 = 2\\pi\\nu_0$), the intercept of a line fit should give the offset to a high precision, and a better value for $\\omega_0 = 2\\pi\\nu_0$ can be found by adding (or subtracting, depending on the direction of detuning) this offset to $\\nu$. (This is <b>Exercise 9</b> in the instructions.)</li>\n",
    "</ol>\n",
    "\n",
    "<b>Note</b> Other exercises in the instructions do not require Python coding, because they are either primarily qualitative or need only a simple calculation that can be done by hand with a calculator."
   ]
  },
  {
   "cell_type": "markdown",
   "metadata": {},
   "source": [
    "## Preliminary exercises\n",
    "\n",
    "### Exercise 1\n",
    "\n",
    "For magnetic fields on the order of one gauss, and for temperatures typical of thse used in the experiment (50&deg; C), verify that the fractional excess population in the lowest energy state (level 1) is about 1 ppm or less (\"part-per-million\" &mdash; recall that a \"percent\" is the same as a \"part-per-hundred\") compared to the next higher state (level 2).  Thus, ground state rubidium atoms indeed reside with essentially equal populations among all of its magnetic sublevels.\n",
    "\n",
    "For this estimate, you may assume that the $g$-factor is equal to 1. (In practice it will be between 0.2 and 2, depending on the system.)  The energy associated with the magnetic field is given by Eq. (3) in the instructions:\n",
    "\n",
    "$$ E({\\rm magnetic}) = g\\mu_B H_0 m_s$$ \n",
    "\n",
    "where $\\mu_B$ is the \"Bohr magneton\", or classical magnetic moment of the electron with angular momentum of 1$\\hbar$.  The difference in levels is found when $m_s$ changes by 1 (e.g., when it goes from $-\\frac{1}{2}$ to $+\\frac{1}{2}$).\n",
    "\n",
    "You should use a Python constants library to calculate numerical quantities that depend on physical constants. It will help you avoid mistakes, and give improved precision.  Below show some examples.\n"
   ]
  },
  {
   "cell_type": "code",
   "execution_count": null,
   "metadata": {},
   "outputs": [],
   "source": [
    "# Constants from scipy.constants library\n",
    "# See the documentation for SciPy under \"Help\" (or look it up online)\n",
    "\n",
    "T = const.convert_temperature(50,'C','K')  # in K\n",
    "k = const.Boltzmann # in J/K\n",
    "mu_B = const.value('Bohr magneton') # in J/T\n",
    "H_0 = 0.5e-4 # Approximate Earth field in tesla (1 T = 10,000 G)\n",
    "\n",
    "# You may use the \"default\" value for preliminary calculation of the g-factors in exercises below.\n",
    "\n",
    "# Complete the calculations shown below.  Note conversion to electron volts (eV)\n",
    "\n",
    "print('kT: {:.3g} eV'.format())\n",
    "print('mu_B*H_0: {:.4g} eV'.format())\n",
    "print('Delta-N/N: {:.4g} ppm'.format())"
   ]
  },
  {
   "cell_type": "markdown",
   "metadata": {},
   "source": [
    "### Exercise 2\n",
    "\n",
    "From equations (20) and (22) in the instructions, calculate the $g$-factor $g_F$ for each of the two isotopes of rubidium, Rb-85 ($I=5/2$) and Rb-87 ($I=3/2$).  You can get the constants from the level diagram in figure 4 of the instructions, but remember that the diagram for Rb-85 has $F=2,3$ (since $F$ runs from $I-J$ to $I+J$ and $J=\\frac{1}{2}$).\n",
    "\n",
    "Note: you may ignore the second term in Eq. (22) that involves the factor $(\\mu_n/\\mu_B)$."
   ]
  },
  {
   "cell_type": "code",
   "execution_count": null,
   "metadata": {},
   "outputs": [],
   "source": [
    "# Calculating the Lande g-factor for J=L+S\n",
    "\n",
    "print('Reason we can ignore second term in Eq. (22): ')\n",
    "\n",
    "print('mu_n/mu_B = {:.3g} \\n'.format(const.value('nuclear magneton')/const.value('Bohr magneton')))\n",
    "\n",
    "# Obtain the values of L, S, and J From the level diagram.  \n",
    "\n",
    "S = \n",
    "L = \n",
    "J = \n",
    "\n",
    "# Complete the calculation for g_J\n",
    "\n",
    "g_J = \n",
    "\n",
    "print('g-factor for 2S_1/2 = {:.3f}'.format(g_J))\n",
    "\n",
    "# Obtain the values of I for Rb-85 and Rb 87\n",
    "I_85 = \n",
    "I_87 = \n",
    "\n",
    "# Calculate for Rb-85 \n",
    "\n",
    "# Obtain F from the level diagram.\n",
    "F = \n",
    "\n",
    "# Calculate g_F for Rb-85\n",
    "g_F_85 = \n",
    "\n",
    "print('g_F for Rb-85 = {:.3f}'.format(g_F_85))\n",
    "\n",
    "# Repeat the process for Rb-87 \n",
    "\n",
    "print('g_F for Rb-87 = {:.3f}'.format(g_F_87))\n"
   ]
  },
  {
   "cell_type": "markdown",
   "metadata": {},
   "source": [
    "## Determine $g_F$ &mdash; 3 Methods\n",
    "\n",
    "As a reminder, these are\n",
    "\n",
    "* from the measurements of resonance frequency versus $H_0$ sweep offset voltage;\n",
    "* from the oscillator frequency supplying $H_1$ that makes the Rabi oscillation signal strongest;\n",
    "* from the measurements of the Rabi frequency versus oscillator amplitude voltage (V<sub>pp</sub>) supplying $H_1$ when the frequency is detuned from resonance.  A fit to the data gives the best value for the detuning, and so gives a best value for the resonance frequency in the Earth's field."
   ]
  },
  {
   "cell_type": "markdown",
   "metadata": {},
   "source": [
    "### Read in the data file(s)\n",
    "\n",
    "You should have measurements of the necessary data to carry out the above methods in a spreadsheet file (or collection of files).  You should have data of \n",
    " * $H_1$ offset voltage versus resonance frequency for both Rb-85 and Rb-87.\n",
    " * The oscillator frequency which makes the Rabi oscillations the strongest, for both Rb-85 and Rb-87.\n",
    " * The values of the oscillator frequency when it is detuned (significanly) away from the above values, plus a list of Rabi frequency measurements versus oscillator amplitudes (V<sub>pp</sub>) for both Rb-85 and Rb-87.\n",
    " * A list of measurements of the Earth's magnetic field taken with the Hall probe gaussmeter.\n",
    "\n",
    "Read the file(s) into the notebook using Pandas `read_csv()` or `read_excel()`\n",
    "\n",
    "Use the Pandas `read_csv()` function to read simple comma-separated (CSV) or tab-separated text files.  If you have tab-separated files, you need to specify th separator character, as shown here:\n",
    "\n",
    "    df = pd.read_csv('method_1_data.txt', sep='\\t')\n",
    "    \n",
    "The dataframe `df` will contain columns with headings set to the labels in the first row.\n",
    "\n",
    "Use `read_excel()` to read in a spreadsheet with multiple worksheets.  You must name the worksheet you want, or pull in the whole collection by using the `sheet_name` argument.  Setting it to `None` creates a 'dict' with each item being one dataframe for each sheet.  See the example below."
   ]
  },
  {
   "cell_type": "code",
   "execution_count": null,
   "metadata": {},
   "outputs": [],
   "source": [
    "# Read the data in as described.  \n",
    "OP_data = pd.read_excel('OP_data.xlsx',sheet_name=None)\n",
    "\n",
    "# Display it.\n",
    "# This shows each sheet as a dataframe table\n",
    "\n",
    "for key in OP_data.keys():\n",
    "    print('\\nSheet: ' + key)\n",
    "    display(OP_data[key])"
   ]
  },
  {
   "cell_type": "markdown",
   "metadata": {},
   "source": [
    "## Method 1 (Exercise 3)\n",
    "\n",
    "Plot the data from the offset study.  Then fit the data to lines and find both the y-intercept and x-intercept with their uncertainties, and save them as uncertainty objects.\n",
    "\n",
    "From the measurements of the Earth's magnetic field, calculate a mean and standard deviation of the mean, and then calculate the g-factors for each isotope with its uncertainty, based on the resonance at zero applied field. "
   ]
  },
  {
   "cell_type": "code",
   "execution_count": null,
   "metadata": {},
   "outputs": [],
   "source": [
    "# extract the first dataframe\n",
    "\n",
    "Offs = "
   ]
  },
  {
   "cell_type": "markdown",
   "metadata": {},
   "source": [
    "#### Plot \n",
    "Make a plot of the offset study data to check that it looks right."
   ]
  },
  {
   "cell_type": "code",
   "execution_count": null,
   "metadata": {},
   "outputs": [],
   "source": [
    "# Sanity plot\n",
    "# Here is an example you may copy and modify\n",
    "\n",
    "myfig = plt.figure(figsize=(10,7))\n",
    "plt.grid()\n",
    "plt.xlabel('Offset voltage (V)')\n",
    "plt.ylabel('Resonance frequency (kHz)')\n",
    "plt.title('Offset voltage study')\n",
    "plt.plot(Offs['Offset (V)'],Offs['f87 (kHz)'],'o',label='Rb-87')\n",
    "plt.plot(Offs['Offset (V)'],Offs['f85 (kHz)'],'o',label='Rb-85')\n",
    "plt.xlim(-5.1,1.1)\n",
    "plt.ylim(0,450)\n",
    "plt.legend();"
   ]
  },
  {
   "cell_type": "markdown",
   "metadata": {},
   "source": [
    "### Fit the data to lines \n",
    "\n",
    "Use LMfit to fit each data set to a line, and plot the results all on one graph that shows how the lines meet the x-axis.  In theory, the x-axis intercept is expected to be the same for both isotopes.   \n",
    "\n",
    "Below shows a reminder of the basic steps"
   ]
  },
  {
   "cell_type": "code",
   "execution_count": null,
   "metadata": {},
   "outputs": [],
   "source": [
    "# Import a linear model\n",
    "\n",
    "from lmfit.models import LinearModel\n",
    "\n",
    "line = LinearModel()\n",
    "\n",
    "# Only need to do the above once\n",
    "\n",
    "# Here is an example. Run the fit for Rb-87\n",
    "\n",
    "params = line.guess(Offs['f87 (kHz)'], x=Offs['Offset (V)'])\n",
    "\n",
    "line87 = line.fit(Offs['f87 (kHz)'], params, x=Offs['Offset (V)'])\n",
    "\n",
    "display(line87)"
   ]
  },
  {
   "cell_type": "code",
   "execution_count": null,
   "metadata": {},
   "outputs": [],
   "source": [
    "# Repeat for Rb-85\n",
    "\n"
   ]
  },
  {
   "cell_type": "markdown",
   "metadata": {},
   "source": [
    "Obtain the slopes and intercepts as \"uncertainty objects\"  and retain the y-intercepts to calculate $g_F$ and calculate the x-intercepts to find the offset voltage that gives a resonant frequency of \"zero\"."
   ]
  },
  {
   "cell_type": "code",
   "execution_count": null,
   "metadata": {},
   "outputs": [],
   "source": [
    "# Complete the code below to extract the fit parameters and their uncertainties into uncertainty objects.\n",
    "# My convention is to designate each uncetainty object by adding a \"u\" to the front of the variable name.\n",
    "# I am used to calling slopes \"m\" and y-intercepts \"b\" as in \"y = mx + b\"\n",
    "\n",
    "# For Rb-87 \n",
    "um_87 = unc.ufloat(line87.params['slope'].value, line87.params['slope'].stderr)\n",
    "ub_87 = unc.ufloat(line87.params['intercept'].value, line87.params['intercept'].stderr)\n",
    "\n",
    "# Use the results to calculate the x intercept\n",
    "ux0_87 = \n",
    "print('Rb-87 f=0 offset: {:.1uP} V'.format(ux0_87))\n",
    "\n",
    "# Repeat for Rb-85\n"
   ]
  },
  {
   "cell_type": "code",
   "execution_count": null,
   "metadata": {},
   "outputs": [],
   "source": [
    "# Create fit lines with 'eval()' and plot\n",
    "# Here is an example for \"eval()\".  If \"x\" is an array of x-values,\n",
    "# you can get a corresponding set of y-values from `y = line87.eval(x)`\n",
    "\n",
    "# make a set of x values that will span the range of y-values between the \n",
    "# x-intercept and the maximum value of y.\n",
    "fit_x = np.linspace(-4.2, 1, 100)\n",
    "\n",
    "# Repeat the above \"sanity plot\" to include the line fits.  Make sure your graph shows\n",
    "# the lines hitting the x-axis.\n",
    "\n"
   ]
  },
  {
   "cell_type": "markdown",
   "metadata": {},
   "source": [
    "### Obtain the Earth's magnetic field\n",
    "\n",
    "A mean and standard deviation of the mean can be obtained in one line of code"
   ]
  },
  {
   "cell_type": "code",
   "execution_count": null,
   "metadata": {},
   "outputs": [],
   "source": [
    "# Read in the set of measurements of the Earth's field.  Obtain the mean and standard deviation\n",
    "# of the measurements, then calculate the standard deviation of the mean, and use these values to\n",
    "# create an uncertainty object, and print it out.\n",
    "\n",
    "B_data = # read in data\n",
    "\n",
    "uB0 =  # Calculate mean and uncertainty into an uncertainty object.\n",
    "\n",
    "print('Measured Earth field = {:.1uP} G'.format(uB0))"
   ]
  },
  {
   "cell_type": "markdown",
   "metadata": {},
   "source": [
    "### Calculate the experimental g-factors for method 1\n",
    "\n",
    "By Eq. (24) in the instructions\n",
    "\n",
    "$$ h\\nu_f = g_F\\mu_BH_0 \\Delta m_F$$\n",
    "\n",
    "in which $|\\Delta m_F| = 1$, calculate the experimental values of the g-factors for the two isotopes and their ratio (which should be independent of the B-field)."
   ]
  },
  {
   "cell_type": "code",
   "execution_count": null,
   "metadata": {},
   "outputs": [],
   "source": [
    "# Rearrange the above to obtain g_F from the fit results\n",
    "# Be careful with units!  Experimental values of magnetic field are in gauss, and frequencies are in kilohertz. \n",
    "\n",
    "g87_1 = \n",
    "g85_1 = \n",
    "\n",
    "print('Method 1 results\\n-------------------------')\n",
    "print('g_F (Rb-87) = {:.1uP}'.format(g87_1))\n",
    "print('g_F (Rb-85) = {:.1uP}'.format(g85_1))\n",
    "print('Ratio (Rb-85/Rb-87) = {:.1uP}'.format(g85_1/g87_1))"
   ]
  },
  {
   "cell_type": "markdown",
   "metadata": {},
   "source": [
    "## Method 2 (Exercise 7)\n",
    "\n",
    "This is quick. Retrieve the resonance frequency from your data, and recalculate $g_F$ using that.  You may assume an uncertainty equal to the least digit of the measured frequency.\n"
   ]
  },
  {
   "cell_type": "code",
   "execution_count": null,
   "metadata": {},
   "outputs": [],
   "source": [
    "# Obtain the resonance frequency for Rabi oscillations: the frequency which maximises\n",
    "# the Rabi oscillation amplitude  Your uncertainty should be +/- 1 of the least digit \n",
    "# (or 1/2 of whatever range the frequency could span before the amplitude changes noticeably) \n",
    "\n",
    "f0_85_2 = \n",
    "f0_87_2 = \n",
    "\n",
    "# Create uncertainty objects \n",
    "uf0_85_2 = \n",
    "uf0_87_2 = "
   ]
  },
  {
   "cell_type": "code",
   "execution_count": null,
   "metadata": {},
   "outputs": [],
   "source": [
    "# Repeat the earlier calculation using these frequencies\n"
   ]
  },
  {
   "cell_type": "markdown",
   "metadata": {},
   "source": [
    "## Method 3 (Exercise 9)\n",
    "\n",
    "The form of the analysis is very similar to Method 1: Make a plot that shows a line for each isotope, fit a line to each set, and extract the intercept.  \n",
    "\n",
    "The difference is that the intercept in this case is added (or subtracted, see above) to the preset value of the oscillator frequency."
   ]
  },
  {
   "cell_type": "code",
   "execution_count": null,
   "metadata": {},
   "outputs": [],
   "source": [
    "# Pull the data of the Rabi frequency versus the peak-to-peak voltage \n",
    "# amplitude for the H_1 field to a dataframe or numpy array.\n",
    "\n",
    "Rabi = \n",
    "\n",
    "# and display it\n",
    "\n",
    "display(Rabi)"
   ]
  },
  {
   "cell_type": "markdown",
   "metadata": {},
   "source": [
    "#### Plot \n",
    "Plot the square of the Rabi frequency versus the square of the $H_1$ voltage.  It should look like a straight line (or close to one)."
   ]
  },
  {
   "cell_type": "code",
   "execution_count": null,
   "metadata": {},
   "outputs": [],
   "source": [
    "# Use NumPy array operations to calculate arrays of the \n",
    "# squares of the data points\n",
    "\n",
    "Vpp_sq = \n",
    "Rabi_fr_85_sq = \n",
    "Rabi_fr_87_sq = \n",
    "\n",
    "# Make a plot to check the results\n"
   ]
  },
  {
   "cell_type": "markdown",
   "metadata": {},
   "source": [
    "#### Fit the Data\n",
    "\n",
    "Run the line fits and collect the intercepts and uncertainties. "
   ]
  },
  {
   "cell_type": "code",
   "execution_count": null,
   "metadata": {},
   "outputs": [],
   "source": [
    "# Rabi frequency fit for Rb-85.  There is no need to re-import the linear model.  \n",
    "# Just apply the existing one to these data sets\n"
   ]
  },
  {
   "cell_type": "code",
   "execution_count": null,
   "metadata": {},
   "outputs": [],
   "source": [
    "# Repeat the Rabi frequency fit for Rb-87\n",
    "\n"
   ]
  },
  {
   "cell_type": "code",
   "execution_count": null,
   "metadata": {},
   "outputs": [],
   "source": [
    "# As before, create fit lines using eval(), and plot the data with the fit lines\n",
    "# Show the fit lines as they intercept the y axis.  If your data and anlysis are \n",
    "# done carefully, both lines will have positive values of the y-intercepts.\n",
    "\n",
    "\n"
   ]
  },
  {
   "cell_type": "markdown",
   "metadata": {},
   "source": [
    "#### Obtain the intercepts and best value for the resonance frequency\n",
    "\n",
    "From the intercepts, calculate the resonant frequency for each isotope by adding (or subtracting, based on the known detuning)."
   ]
  },
  {
   "cell_type": "code",
   "execution_count": null,
   "metadata": {},
   "outputs": [],
   "source": [
    "# Obtain the intercepts and thei uncertainties.  Put them into uncrtainty objects\n",
    "\n",
    "uRabi_b_85 = \n",
    "uRabi_b_87 = \n",
    "\n",
    "# Obtain the (offset) oscillator frequencies\n",
    "\n",
    "f_osc_85 = \n",
    "f_osc_87 = \n",
    "\n",
    "# Adjust the oscillator frequencies by adding (or subtracting) the square root of intercepts to (from) them.  \n",
    "# Add if you knowingly tuned the oscillator below the resonance frequency, subtract if you knowingly tuned it above. \n",
    "# Use unumpy sqrt() function to propagate uncertainty. \n",
    "\n",
    "uf_res85_3 = \n",
    "uf_res87_3 = \n",
    "\n",
    "# Print the adjusted \"true\" resonance frquencies\n",
    "\n",
    "print('Rb-85 Rabi f_resonance: {:.1uP} kHz'.format(uf_res85_3))\n",
    "print('Rb-87 Rabi f_resonance: {:.1uP} kHz'.format(uf_res87_3))\n"
   ]
  },
  {
   "cell_type": "markdown",
   "metadata": {},
   "source": [
    "#### Calculate *g* for method 3"
   ]
  },
  {
   "cell_type": "code",
   "execution_count": null,
   "metadata": {},
   "outputs": [],
   "source": [
    "# Repeat the basic calculation for the g-factors, using the frequencies obtained with Method 3\n"
   ]
  },
  {
   "cell_type": "code",
   "execution_count": null,
   "metadata": {},
   "outputs": [],
   "source": []
  }
 ],
 "metadata": {
  "kernelspec": {
   "display_name": "Python 3 (ipykernel)",
   "language": "python",
   "name": "python3"
  },
  "language_info": {
   "codemirror_mode": {
    "name": "ipython",
    "version": 3
   },
   "file_extension": ".py",
   "mimetype": "text/x-python",
   "name": "python",
   "nbconvert_exporter": "python",
   "pygments_lexer": "ipython3",
   "version": "3.11.11"
  }
 },
 "nbformat": 4,
 "nbformat_minor": 4
}
